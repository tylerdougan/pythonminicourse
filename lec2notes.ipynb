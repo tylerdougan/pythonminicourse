{
 "cells": [
  {
   "cell_type": "markdown",
   "metadata": {},
   "source": [
    "Review from last week + homework\n",
    "--------------------------------\n",
    " - parentheses and order of operations\n",
    " - more than one way to skin a cat, but one way is usually best\n",
    " - waltlabtools and Mito install issues\n",
    "    - [Your computer is literally haunted](https://xkcd.com/1316)\n",
    "    - [Username is a resolvable URL](https://xkcd.com/1700)\n",
    "    - [Transitions Lenses go dark](https://xkcd.com/2083)\n",
    " - "
   ]
  },
  {
   "cell_type": "code",
   "execution_count": 12,
   "metadata": {},
   "outputs": [
    {
     "name": "stdout",
     "output_type": "stream",
     "text": [
      "The Zen of Python, by Tim Peters\n",
      "\n",
      "Beautiful is better than ugly.\n",
      "Explicit is better than implicit.\n",
      "Simple is better than complex.\n",
      "Complex is better than complicated.\n",
      "Flat is better than nested.\n",
      "Sparse is better than dense.\n",
      "Readability counts.\n",
      "Special cases aren't special enough to break the rules.\n",
      "Although practicality beats purity.\n",
      "Errors should never pass silently.\n",
      "Unless explicitly silenced.\n",
      "In the face of ambiguity, refuse the temptation to guess.\n",
      "There should be one-- and preferably only one --obvious way to do it.\n",
      "Although that way may not be obvious at first unless you're Dutch.\n",
      "Now is better than never.\n",
      "Although never is often better than *right* now.\n",
      "If the implementation is hard to explain, it's a bad idea.\n",
      "If the implementation is easy to explain, it may be a good idea.\n",
      "Namespaces are one honking great idea -- let's do more of those!\n"
     ]
    }
   ],
   "source": [
    "import this"
   ]
  },
  {
   "cell_type": "markdown",
   "metadata": {},
   "source": [
    "`str`\n",
    "-----\n",
    " - single or double quotes\n",
    " - concatenate strings with `+` or nothing\n",
    " - `len` for length of string\n",
    " - `str(var)` to convert `var` to a string\n",
    " - indexing strings with `[]`\n",
    "    - indexing for a specific letter\n",
    "    - slicing\n",
    " - `type()`"
   ]
  },
  {
   "cell_type": "code",
   "execution_count": 3,
   "metadata": {},
   "outputs": [
    {
     "ename": "TypeError",
     "evalue": "can only concatenate str (not \"float\") to str",
     "output_type": "error",
     "traceback": [
      "\u001b[0;31m---------------------------------------------------------------------------\u001b[0m",
      "\u001b[0;31mTypeError\u001b[0m                                 Traceback (most recent call last)",
      "\u001b[1;32m/Users/tdougan/Dropbox (HMS)/Research/General/Scientific Computing/Python Class/pythonminicourse/lec2notes.ipynb Cell 2'\u001b[0m in \u001b[0;36m<module>\u001b[0;34m\u001b[0m\n\u001b[1;32m     <a href='vscode-notebook-cell:/Users/tdougan/Dropbox%20%28HMS%29/Research/General/Scientific%20Computing/Python%20Class/pythonminicourse/lec2notes.ipynb#ch0000004?line=14'>15</a>\u001b[0m str3[\u001b[39m-\u001b[39m\u001b[39m1\u001b[39m]\n\u001b[1;32m     <a href='vscode-notebook-cell:/Users/tdougan/Dropbox%20%28HMS%29/Research/General/Scientific%20Computing/Python%20Class/pythonminicourse/lec2notes.ipynb#ch0000004?line=15'>16</a>\u001b[0m str3[\u001b[39m2\u001b[39m:\u001b[39m-\u001b[39m\u001b[39m1\u001b[39m]\n\u001b[0;32m---> <a href='vscode-notebook-cell:/Users/tdougan/Dropbox%20%28HMS%29/Research/General/Scientific%20Computing/Python%20Class/pythonminicourse/lec2notes.ipynb#ch0000004?line=16'>17</a>\u001b[0m \u001b[39mprint\u001b[39m(\u001b[39m\"\u001b[39;49m\u001b[39mpi is approximately \u001b[39;49m\u001b[39m\"\u001b[39;49m \u001b[39m+\u001b[39;49m np\u001b[39m.\u001b[39;49mpi) \u001b[39m# raises error\u001b[39;00m\n\u001b[1;32m     <a href='vscode-notebook-cell:/Users/tdougan/Dropbox%20%28HMS%29/Research/General/Scientific%20Computing/Python%20Class/pythonminicourse/lec2notes.ipynb#ch0000004?line=17'>18</a>\u001b[0m \u001b[39mprint\u001b[39m(\u001b[39m\"\u001b[39m\u001b[39mpi is approximately \u001b[39m\u001b[39m\"\u001b[39m \u001b[39m+\u001b[39m np\u001b[39m.\u001b[39mpi)\n",
      "\u001b[0;31mTypeError\u001b[0m: can only concatenate str (not \"float\") to str"
     ]
    }
   ],
   "source": [
    "import numpy as np\n",
    "\n",
    "str1 = \"hello world\"\n",
    "len(str1)\n",
    "str2 = \"hello\" + \"world\"\n",
    "str2 = \"hello\" \"world\"\n",
    "len(str2)\n",
    "\n",
    "str3 = \"abcdefg\"\n",
    "len(str3)\n",
    "str3[2]\n",
    "str3[2:5]\n",
    "str3[2:]\n",
    "str3[:5]\n",
    "str3[-1]\n",
    "str3[2:-1]\n",
    "print(\"pi is approximately \" + np.pi) # raises error\n",
    "print(\"pi is approximately \" + np.pi)"
   ]
  },
  {
   "cell_type": "markdown",
   "metadata": {},
   "source": [
    "`list`\n",
    "------\n",
    " - create a list with `list()` or `[]`\n",
    " - lists can be indexed and sliced\n",
    " - lists are mutable\n",
    " - concatenate lists with `+` or `list.extend()`\n",
    "    - `list.extend()` vs `list.append()`\n",
    " - lists can contain anything, even other lists\n",
    " - so when we wrote `np.array([...])`, we were saying to make a list of numbers, and then turn it into an array"
   ]
  },
  {
   "cell_type": "code",
   "execution_count": null,
   "metadata": {},
   "outputs": [],
   "source": [
    "list1 = []  # empty list\n",
    "list2 = [1, 5, np.pi, \"f\"]\n",
    "list3 = list(str3)\n",
    "\n",
    "list3[2] = \"C\"\n",
    "list3.append(\"h\")\n",
    "list3.extend([\"i\", \"j\", \"l\"])\n",
    "list3.append([\"i\", \"j\", \"k\"])\n"
   ]
  },
  {
   "cell_type": "markdown",
   "metadata": {},
   "source": [
    "`tuple`\n",
    "-------\n",
    " - tuples are immutable but their contents don't have to be\n",
    " - create tuples by separating arguments by commas\n",
    " - unpacking"
   ]
  },
  {
   "cell_type": "code",
   "execution_count": 7,
   "metadata": {},
   "outputs": [
    {
     "data": {
      "text/plain": [
       "tuple"
      ]
     },
     "execution_count": 7,
     "metadata": {},
     "output_type": "execute_result"
    }
   ],
   "source": [
    "tuple1 = ()\n",
    "tuple2 = 1, \"f\", 7\n",
    "tuple3 = tuple(list2)\n",
    "x, y, z = \"x\", \"y\", \"z\""
   ]
  },
  {
   "cell_type": "markdown",
   "metadata": {},
   "source": [
    "`dict`\n",
    "------\n",
    " - dictionaries have keys and values\n",
    "    - keys have to be unique and immutable"
   ]
  },
  {
   "cell_type": "code",
   "execution_count": null,
   "metadata": {},
   "outputs": [],
   "source": [
    "tel = {'jack': 4098, 'sape': 4139}\n",
    "tel['guido'] = 4127\n",
    "tel\n",
    "tel['jack']\n",
    "del tel['sape']\n",
    "tel['irv'] = 4127\n",
    "\n",
    "tel.keys()\n",
    "tel.values()"
   ]
  },
  {
   "cell_type": "markdown",
   "metadata": {},
   "source": [
    "`if` statements\n",
    "---------------\n",
    " - basic structure and syntax: `if`, `else`, `elif`\n",
    " - examples of tests\n",
    "    - comparisons\n",
    "        - `is` vs `==`\n",
    "    - automatically convert to boolean\n",
    "        - `bool()`\n",
    "        - `and`, `or`, `not`\n",
    "        - numbers ≠ 0\n",
    "        - non-empty collections\n",
    "    - `isinstance()`\n",
    "    - `in`"
   ]
  },
  {
   "cell_type": "code",
   "execution_count": null,
   "metadata": {},
   "outputs": [],
   "source": [
    "if 5 < 7:\n",
    "    print(\"math works\")\n",
    "\n",
    "if 5 < 7:\n",
    "    print(\"math works\")\n",
    "else:\n",
    "    print(\"math does not work\")\n",
    "\n",
    "if 5 < 7:\n",
    "    print(\"math works\")\n",
    "elif 5 == 7:\n",
    "    print(\"math is broken in a very specific way\")\n",
    "else:\n",
    "    print(\"math does not work\")\n",
    "\n",
    "print(5 < 7)\n",
    "\n",
    "bool(0)\n",
    "bool([])\n",
    "bool(7)\n",
    "bool(\"hello world\")\n",
    "\n",
    "x = True\n",
    "\n",
    "if x == True:\n",
    "    print(x)\n",
    "\n",
    "if x is True:\n",
    "    print(x)\n",
    "\n",
    "if x:\n",
    "    print(x)\n",
    "\n",
    "# ask the group: how to test if y is a list?\n",
    "if type(y) == list:  # bad\n",
    "    pass # noqa\n",
    "if type(y) is list:  # slightly better?\n",
    "    pass # noqa\n",
    "if isinstance(y, list):  # good\n",
    "    pass # noqa\n",
    "\n",
    "1 in [1, 2, 3]\n",
    "\"l\" in \"hello world\"\n",
    "\"lo\" in \"hello world\"\n"
   ]
  },
  {
   "cell_type": "markdown",
   "metadata": {},
   "source": [
    "`for` loops\n",
    "-----------\n",
    " - `range()`\n",
    " - looping over tuples and lists\n",
    " - looping over dictionaries: `dict.items()`\n",
    " - `enumerate()`\n",
    " - don't modify what you're looping over unless you want your life to suck"
   ]
  },
  {
   "cell_type": "code",
   "execution_count": null,
   "metadata": {},
   "outputs": [],
   "source": [
    "for i in range(10):\n",
    "    print(i)\n",
    "\n",
    "for i in range(4, 10):\n",
    "    print(i)\n",
    "\n",
    "for i in range(4, 10, 2):\n",
    "    print(i)\n",
    "\n",
    "for i in [4, 6, 8]:\n",
    "    print(i)\n",
    "\n",
    "\n",
    "for n, l in enumerate(\"abcdefg\"):\n",
    "    print(n, l)\n",
    "# what does this code do?\n",
    "\n",
    "\n",
    "for key, value in tel.items():\n",
    "    print(value)\n",
    "\n",
    "for key in tel.keys():  # or for key in tel:\n",
    "    print(tel[key])\n",
    "\n",
    "for value in tel.values():\n",
    "    print(value)"
   ]
  },
  {
   "cell_type": "markdown",
   "metadata": {},
   "source": [
    "functions\n",
    "---------"
   ]
  },
  {
   "cell_type": "code",
   "execution_count": null,
   "metadata": {},
   "outputs": [],
   "source": [
    "def identity_function(x):\n",
    "    \"\"\"Returns its argument, unchanged.\"\"\"\n",
    "    return x\n",
    "\n",
    "def print_type(x):\n",
    "    \"\"\"Prints the type of its argument.\"\"\"\n",
    "    x_type = type(x)\n",
    "    print(x_type)\n",
    "\n",
    "def is_equal(x, y):\n",
    "    \"\"\"Returns True if x==y; False otherwise.\"\"\"\n",
    "    x_equal_y = x == y\n",
    "    return x_equal_y\n",
    "\n",
    "def is_equal(x, y):\n",
    "    \"\"\"Returns True if x==y; False otherwise.\"\"\"\n",
    "    return x == y\n",
    "\n",
    "\n",
    "def fon(aeb_):\n",
    "    \"\"\"The fraction of beads which are on.\n",
    "    Converts the average enzymes per bead (AEB) to the fraction of\n",
    "    on-beads (fon) using Poisson statistics. The formula used is\n",
    "    `fon_` = 1 - exp(-`aeb_`).\n",
    "\n",
    "    Parameters\n",
    "    ----------\n",
    "    aeb_ : numeric or array-like\n",
    "        A scalar or array of the average number of enzymes per bead.\n",
    "\n",
    "    Returns\n",
    "    -------\n",
    "    fon_ : same as input, or array\n",
    "        The fractions of beads which are \"on.\"\n",
    "\n",
    "    See Also\n",
    "    --------\n",
    "    aeb : inverse of fon\n",
    "\n",
    "    \"\"\"\n",
    "        return 1 - np.exp(-aeb_)\n",
    "\n",
    "def limit_of_detection(blank_signal, inverse_fun=None, sds=3):\n",
    "    \"\"\"Computes the limit of detection (LOD).\n",
    "\n",
    "    Parameters\n",
    "    ----------\n",
    "    blank_signal : array-like\n",
    "        Signal (e.g., average number of enzymes per bead, AEB) of the\n",
    "        zero calibrator. Must have at least two elements.\n",
    "    inverse_fun : ``function`` or ``CalCurve``\n",
    "        The functional form used for the calibration curve. If a\n",
    "        function, it should accept the measurement reading (`y`, e.g.,\n",
    "        fluorescence) as its only argument and return the value (`x`,\n",
    "        e.g., concentration). If **inverse_fun** is a ``CalCurve``\n",
    "        object, the LOD will be calculated from its ``inverse`` method.\n",
    "    sds : numeric, optional\n",
    "        How many standard deviations above the mean should the\n",
    "        background should the limit of detection be calculated at?\n",
    "        Common values include 2.5 (Quanterix), 3 (Walt Lab), and 10\n",
    "        (lower limit of quantification, LLOQ).\n",
    "\n",
    "    Returns\n",
    "    -------\n",
    "    lod_x : numeric\n",
    "        The limit of detection, in units of x (e.g., concentration).\n",
    "\n",
    "    \"\"\"\n",
    "    mean = np.mean(blank_signal)\n",
    "    stdev = np.std(blank_signal)\n",
    "    lod_y = mean + sds * stdev\n",
    "    lod_x = inverse_fun(lod_y)\n",
    "    return lod_x"
   ]
  },
  {
   "cell_type": "markdown",
   "metadata": {},
   "source": [
    "`lambda`\n",
    "--------"
   ]
  },
  {
   "cell_type": "code",
   "execution_count": null,
   "metadata": {},
   "outputs": [],
   "source": [
    "fon = lambda aeb_: 1 - np.exp(-aeb_)"
   ]
  },
  {
   "cell_type": "markdown",
   "metadata": {},
   "source": [
    "comprehensions\n",
    "--------------\n",
    " - list comprehensions\n",
    " - dictionary comprehensions\n",
    " - comprehensions are good if they fit on one line; otherwise, use a for loop"
   ]
  },
  {
   "cell_type": "code",
   "execution_count": null,
   "metadata": {},
   "outputs": [],
   "source": [
    "nums = [1, 2, 3, 4, 5, 6]\n",
    "# how would I make a list of each of these numbers squared?\n",
    "\n",
    "nums_squared = []\n",
    "for n in nums:\n",
    "    nums_squared.append(n**2)\n",
    "\n",
    "nums_squared = [n**2 for n in nums]\n",
    "\n",
    "\n",
    "dict_of_nums_squared = {n: n**2 for n in nums}"
   ]
  },
  {
   "cell_type": "markdown",
   "metadata": {},
   "source": [
    "Brief demo: how `waltlabtools` is supposed to work\n",
    "--------------------------------------------------"
   ]
  },
  {
   "cell_type": "code",
   "execution_count": null,
   "metadata": {},
   "outputs": [],
   "source": [
    "import waltlabtools as wlt\n",
    "import pandas as pd\n",
    "\n",
    "run_history = wlt.read_raw_hdx()\n",
    "# navigate to ~/Dropbox (HMS)/Research/General/Presentations/2022-01 HIV Update/run_history.csv\n",
    "gag_points = run_history[(run_history.Plex == \"td Gag p24 singleplex beads\") & (run_history[\"Replicate Conc.\"] < 1e3)][[\"Replicate Conc.\", \"Replicate AEB\"]]\n",
    "gag_cc = wlt.CalCurve.from_data(x=gag_points[\"Replicate Conc.\"], y=gag_points[\"Replicate AEB\"], model=\"4PL\")\n",
    "gag_cc.plot(xlabel=\"Gag p24 (pg/mL)\", ylabel=\"AEB\")\n",
    "print(gag_cc.lod)\n"
   ]
  }
 ],
 "metadata": {
  "interpreter": {
   "hash": "4e14287a1668cf99021dc14dee279cd2f9f565453ea1f7b94b1899828fd9db46"
  },
  "kernelspec": {
   "display_name": "Python 3.8.12 ('pyclass')",
   "language": "python",
   "name": "python3"
  },
  "language_info": {
   "codemirror_mode": {
    "name": "ipython",
    "version": 3
   },
   "file_extension": ".py",
   "mimetype": "text/x-python",
   "name": "python",
   "nbconvert_exporter": "python",
   "pygments_lexer": "ipython3",
   "version": "3.8.12"
  },
  "orig_nbformat": 4
 },
 "nbformat": 4,
 "nbformat_minor": 2
}
