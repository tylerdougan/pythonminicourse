{
 "cells": [
  {
   "cell_type": "markdown",
   "id": "b0b4aa69-b23d-4edf-8e64-4d2fd6697151",
   "metadata": {},
   "source": [
    "strings"
   ]
  },
  {
   "cell_type": "code",
   "execution_count": 34,
   "id": "05dce802-59cb-49c7-b760-a5ca0931e906",
   "metadata": {},
   "outputs": [
    {
     "data": {
      "text/plain": [
       "''"
      ]
     },
     "execution_count": 34,
     "metadata": {},
     "output_type": "execute_result"
    }
   ],
   "source": [
    "intro = \"hello world\"\n",
    "intro = \"hello world'nt\"\n",
    "empty_str = \"\"\n",
    "empty_str"
   ]
  },
  {
   "cell_type": "code",
   "execution_count": 13,
   "id": "f0abe38b-638b-4702-8298-e601ef227764",
   "metadata": {},
   "outputs": [
    {
     "data": {
      "text/plain": [
       "14"
      ]
     },
     "execution_count": 13,
     "metadata": {},
     "output_type": "execute_result"
    }
   ],
   "source": [
    "len(intro)"
   ]
  },
  {
   "cell_type": "code",
   "execution_count": 23,
   "id": "bf71bf13-bf87-4310-b9cf-9dec19759a5c",
   "metadata": {},
   "outputs": [
    {
     "name": "stdout",
     "output_type": "stream",
     "text": [
      "hello world\n"
     ]
    }
   ],
   "source": [
    "str2 = (\"hello \"\n",
    "        + \"world\")\n",
    "print(str2)"
   ]
  },
  {
   "cell_type": "code",
   "execution_count": 24,
   "id": "42fcf5a2-6704-46f8-b669-321c13f9b582",
   "metadata": {},
   "outputs": [
    {
     "data": {
      "text/plain": [
       "7"
      ]
     },
     "execution_count": 24,
     "metadata": {},
     "output_type": "execute_result"
    }
   ],
   "source": [
    "str3 = \"abcdefg\"\n",
    "len(str3)"
   ]
  },
  {
   "cell_type": "code",
   "execution_count": 25,
   "id": "2a3f959e-2d95-4579-b4ab-9bc18c83d458",
   "metadata": {},
   "outputs": [
    {
     "data": {
      "text/plain": [
       "'c'"
      ]
     },
     "execution_count": 25,
     "metadata": {},
     "output_type": "execute_result"
    }
   ],
   "source": [
    "str3[2]"
   ]
  },
  {
   "cell_type": "code",
   "execution_count": 26,
   "id": "5b2f6aeb-28b8-4652-a085-c5e5f60f0c4f",
   "metadata": {},
   "outputs": [
    {
     "data": {
      "text/plain": [
       "'cde'"
      ]
     },
     "execution_count": 26,
     "metadata": {},
     "output_type": "execute_result"
    }
   ],
   "source": [
    "str3[2:5]"
   ]
  },
  {
   "cell_type": "code",
   "execution_count": 27,
   "id": "42f76edd-5993-4e1c-a433-f7f25b7f413c",
   "metadata": {},
   "outputs": [
    {
     "data": {
      "text/plain": [
       "'cdefg'"
      ]
     },
     "execution_count": 27,
     "metadata": {},
     "output_type": "execute_result"
    }
   ],
   "source": [
    "str3[2:]"
   ]
  },
  {
   "cell_type": "code",
   "execution_count": 28,
   "id": "ac053dfc-89a1-4dc8-8b35-5f09f4cf30e0",
   "metadata": {},
   "outputs": [
    {
     "data": {
      "text/plain": [
       "'abcde'"
      ]
     },
     "execution_count": 28,
     "metadata": {},
     "output_type": "execute_result"
    }
   ],
   "source": [
    "str3[:5]"
   ]
  },
  {
   "cell_type": "code",
   "execution_count": 29,
   "id": "a5f9cf93-bc44-4d21-b4b2-d2281d05fc76",
   "metadata": {},
   "outputs": [
    {
     "data": {
      "text/plain": [
       "'g'"
      ]
     },
     "execution_count": 29,
     "metadata": {},
     "output_type": "execute_result"
    }
   ],
   "source": [
    "str3[-1]"
   ]
  },
  {
   "cell_type": "code",
   "execution_count": 33,
   "id": "0f406217-a1a4-4d9e-ac01-2fc92e1470e6",
   "metadata": {},
   "outputs": [
    {
     "name": "stdout",
     "output_type": "stream",
     "text": [
      "pi is approximately 3.141592653589793\n"
     ]
    }
   ],
   "source": [
    "print(\"pi is approximately \" + str(np.pi))"
   ]
  },
  {
   "cell_type": "markdown",
   "id": "e0beae71-c5cc-4fd5-ae4c-017b91350c49",
   "metadata": {},
   "source": [
    "-----\n",
    "lists\n",
    "-----"
   ]
  },
  {
   "cell_type": "code",
   "execution_count": 45,
   "id": "fb5d8431-3eb5-4697-8407-3a2863dbc7f9",
   "metadata": {},
   "outputs": [
    {
     "data": {
      "text/plain": [
       "['a', 'b', 'c', 'd', 'e', 'f', 'g']"
      ]
     },
     "execution_count": 45,
     "metadata": {},
     "output_type": "execute_result"
    }
   ],
   "source": [
    "list1 = []\n",
    "list2 = [1, 5, np.pi, \"f\"]\n",
    "list3 = list(str3)\n",
    "\n",
    "list3"
   ]
  },
  {
   "cell_type": "code",
   "execution_count": 36,
   "id": "15e0f332-e7e1-4ac5-9698-3fb2fb716643",
   "metadata": {},
   "outputs": [
    {
     "data": {
      "text/plain": [
       "['a', 'b', 'C', 'd', 'e', 'f', 'g']"
      ]
     },
     "execution_count": 36,
     "metadata": {},
     "output_type": "execute_result"
    }
   ],
   "source": [
    "list3[2] = \"C\"\n",
    "list3"
   ]
  },
  {
   "cell_type": "code",
   "execution_count": 37,
   "id": "5feae728-b420-407a-9935-ce2c8f77fd5f",
   "metadata": {},
   "outputs": [
    {
     "data": {
      "text/plain": [
       "['a', 'b', 'C', 'd', 'e', 'f', 'g', 'h']"
      ]
     },
     "execution_count": 37,
     "metadata": {},
     "output_type": "execute_result"
    }
   ],
   "source": [
    "list3.append(\"h\")\n",
    "list3"
   ]
  },
  {
   "cell_type": "code",
   "execution_count": 41,
   "id": "59fcaf63-a830-4ab4-ba69-47ef8710a8a5",
   "metadata": {},
   "outputs": [
    {
     "name": "stdout",
     "output_type": "stream",
     "text": [
      "\n"
     ]
    }
   ],
   "source": [
    "empty_str = \"\"\n",
    "\n",
    "list3_to_string = empty_str.join(list3)\n",
    "\n",
    "print(empty_str)"
   ]
  },
  {
   "cell_type": "code",
   "execution_count": 44,
   "id": "bd26f71b-3993-4842-bde2-b2f0657e52f7",
   "metadata": {},
   "outputs": [
    {
     "data": {
      "text/plain": [
       "['a', 'b', 'C', 'd', 'e', 'f', 'g', 'h', 1, 5, 3.141592653589793, 'f']"
      ]
     },
     "execution_count": 44,
     "metadata": {},
     "output_type": "execute_result"
    }
   ],
   "source": [
    "list3.extend(list2)\n",
    "list3"
   ]
  },
  {
   "cell_type": "code",
   "execution_count": 46,
   "id": "5abb2316-7f12-4ca9-b2f1-bd31756d3ea8",
   "metadata": {},
   "outputs": [],
   "source": [
    "list3.append(list2)"
   ]
  },
  {
   "cell_type": "code",
   "execution_count": 47,
   "id": "cf01a5c4-e876-42b8-8281-5ec6747aa3c6",
   "metadata": {},
   "outputs": [
    {
     "data": {
      "text/plain": [
       "['a', 'b', 'c', 'd', 'e', 'f', 'g', [1, 5, 3.141592653589793, 'f']]"
      ]
     },
     "execution_count": 47,
     "metadata": {},
     "output_type": "execute_result"
    }
   ],
   "source": [
    "list3"
   ]
  },
  {
   "cell_type": "code",
   "execution_count": 54,
   "id": "e5ac9bc1-fe84-4fd5-829d-71d14b208bf5",
   "metadata": {},
   "outputs": [],
   "source": [
    "list5 = [2, 5, \"fa\", ]"
   ]
  },
  {
   "cell_type": "markdown",
   "id": "740d79c3-9eaa-49d3-8501-4e55593a5eef",
   "metadata": {},
   "source": [
    "------\n",
    "tuples\n",
    "------"
   ]
  },
  {
   "cell_type": "code",
   "execution_count": 55,
   "id": "357ccdf8-6f15-4b31-b88a-bbc55d776357",
   "metadata": {},
   "outputs": [],
   "source": [
    "tuple1 = ()\n",
    "\n",
    "tuple2 = (8**(1/2), )"
   ]
  },
  {
   "cell_type": "code",
   "execution_count": 59,
   "id": "f94287fd-ac39-4172-979b-44b87d9694c8",
   "metadata": {},
   "outputs": [],
   "source": [
    "tuple3 = 1, \"f\", 7"
   ]
  },
  {
   "cell_type": "code",
   "execution_count": 61,
   "id": "347309cc-1739-45aa-8409-ba590fc2f55d",
   "metadata": {},
   "outputs": [],
   "source": [
    "x, y, z = \"x\", \"y\", \"z\""
   ]
  },
  {
   "cell_type": "markdown",
   "id": "6c19aa92-3b22-4964-804f-e3b3ce83c4cc",
   "metadata": {},
   "source": [
    "-----\n",
    "dictionaries\n",
    "------"
   ]
  },
  {
   "cell_type": "code",
   "execution_count": 62,
   "id": "72e702bd-2457-4de6-974f-0da14eba1c58",
   "metadata": {},
   "outputs": [
    {
     "data": {
      "text/plain": [
       "4098"
      ]
     },
     "execution_count": 62,
     "metadata": {},
     "output_type": "execute_result"
    }
   ],
   "source": [
    "tel = {\"jack\": 4098, \"thomas\": 4139}\n",
    "\n",
    "tel[\"jack\"]"
   ]
  },
  {
   "cell_type": "code",
   "execution_count": 63,
   "id": "1ca9f4ef-4441-4613-a08e-0056f11be66b",
   "metadata": {},
   "outputs": [],
   "source": [
    "tel[\"guido\"] = 4127"
   ]
  },
  {
   "cell_type": "code",
   "execution_count": 64,
   "id": "041c7dfd-9381-4017-9d38-885e9b419602",
   "metadata": {},
   "outputs": [
    {
     "data": {
      "text/plain": [
       "{'jack': 4098, 'thomas': 4139, 'guido': 4127}"
      ]
     },
     "execution_count": 64,
     "metadata": {},
     "output_type": "execute_result"
    }
   ],
   "source": [
    "tel"
   ]
  },
  {
   "cell_type": "code",
   "execution_count": 68,
   "id": "33eb2fe5-f171-4f7a-9cf2-9035ba37b3e8",
   "metadata": {},
   "outputs": [],
   "source": [
    "tel[\"jack\"] = 4139"
   ]
  },
  {
   "cell_type": "code",
   "execution_count": 83,
   "id": "c98d26cd-bd70-4be6-8b91-ba799b4597e6",
   "metadata": {},
   "outputs": [],
   "source": [
    "tel[tuple3] = [4, \"3\", 346]"
   ]
  },
  {
   "cell_type": "code",
   "execution_count": 84,
   "id": "dcf1403b-f8a4-4187-bd99-d4d3f80527b6",
   "metadata": {},
   "outputs": [
    {
     "data": {
      "text/plain": [
       "{'jack': 4139,\n",
       " 'thomas': 4139,\n",
       " 'guido': 4127,\n",
       " 3: [2, 5, 7],\n",
       " (1, 'f', 7): [4, '3', 346]}"
      ]
     },
     "execution_count": 84,
     "metadata": {},
     "output_type": "execute_result"
    }
   ],
   "source": [
    "tel"
   ]
  },
  {
   "cell_type": "code",
   "execution_count": 76,
   "id": "e6bd2839-a169-48b8-8f0f-03139ba32e28",
   "metadata": {},
   "outputs": [
    {
     "data": {
      "text/plain": [
       "4139"
      ]
     },
     "execution_count": 76,
     "metadata": {},
     "output_type": "execute_result"
    }
   ],
   "source": [
    "tel[\"jack\"]"
   ]
  },
  {
   "cell_type": "code",
   "execution_count": 77,
   "id": "9748cc26-b80a-45fe-8f7a-8505adfd5cb6",
   "metadata": {},
   "outputs": [
    {
     "data": {
      "text/plain": [
       "dict_items([('jack', 4139), ('thomas', 4139), ('guido', 4127), (3, [2, 5, 7]), ((1, 'f', 7), [2, 5, 7])])"
      ]
     },
     "execution_count": 77,
     "metadata": {},
     "output_type": "execute_result"
    }
   ],
   "source": [
    "tel.items()"
   ]
  },
  {
   "cell_type": "code",
   "execution_count": 78,
   "id": "76da67d5-28f6-488a-b4e7-8db67d89d563",
   "metadata": {},
   "outputs": [
    {
     "data": {
      "text/plain": [
       "dict_keys(['jack', 'thomas', 'guido', 3, (1, 'f', 7)])"
      ]
     },
     "execution_count": 78,
     "metadata": {},
     "output_type": "execute_result"
    }
   ],
   "source": [
    "tel.keys()"
   ]
  },
  {
   "cell_type": "code",
   "execution_count": 79,
   "id": "b4bfec63-3c78-42b9-ab94-7e0aab0282ad",
   "metadata": {},
   "outputs": [
    {
     "data": {
      "text/plain": [
       "dict_values([4139, 4139, 4127, [2, 5, 7], [2, 5, 7]])"
      ]
     },
     "execution_count": 79,
     "metadata": {},
     "output_type": "execute_result"
    }
   ],
   "source": [
    "tel.values()"
   ]
  },
  {
   "cell_type": "markdown",
   "id": "bba1e90d-f88f-4b52-8e8e-9be56c09ca61",
   "metadata": {},
   "source": [
    "------\n",
    "if\n",
    "-----"
   ]
  },
  {
   "cell_type": "code",
   "execution_count": 88,
   "id": "342247d5-e21a-40df-b3cc-c98008348272",
   "metadata": {},
   "outputs": [
    {
     "name": "stdout",
     "output_type": "stream",
     "text": [
      "math works\n"
     ]
    }
   ],
   "source": [
    "if 5 < 7:\n",
    "    print(\"math works\")\n",
    "elif 5 == 7:\n",
    "    print(\"math is broken in a very specific way\")\n",
    "else:\n",
    "    print(\"math doesn't work\")"
   ]
  },
  {
   "cell_type": "code",
   "execution_count": 89,
   "id": "2ee84225-5896-475f-a3af-b970b82b3a12",
   "metadata": {},
   "outputs": [
    {
     "data": {
      "text/plain": [
       "True"
      ]
     },
     "execution_count": 89,
     "metadata": {},
     "output_type": "execute_result"
    }
   ],
   "source": [
    "5 < 7"
   ]
  },
  {
   "cell_type": "code",
   "execution_count": 90,
   "id": "7cc5b313-5df4-45dd-9c25-32ee12dbcf94",
   "metadata": {},
   "outputs": [
    {
     "data": {
      "text/plain": [
       "bool"
      ]
     },
     "execution_count": 90,
     "metadata": {},
     "output_type": "execute_result"
    }
   ],
   "source": [
    "type(5 < 7)"
   ]
  },
  {
   "cell_type": "code",
   "execution_count": 91,
   "id": "44269227-e9a6-4206-b280-9f05d8854b75",
   "metadata": {},
   "outputs": [
    {
     "data": {
      "text/plain": [
       "False"
      ]
     },
     "execution_count": 91,
     "metadata": {},
     "output_type": "execute_result"
    }
   ],
   "source": [
    "bool(0)"
   ]
  },
  {
   "cell_type": "code",
   "execution_count": 92,
   "id": "b0306d60-7806-4058-94c0-a6d04939f366",
   "metadata": {},
   "outputs": [
    {
     "data": {
      "text/plain": [
       "True"
      ]
     },
     "execution_count": 92,
     "metadata": {},
     "output_type": "execute_result"
    }
   ],
   "source": [
    "bool([1, 2, 5])"
   ]
  },
  {
   "cell_type": "code",
   "execution_count": 93,
   "id": "b2567d89-6604-43a0-b554-6c9941db514b",
   "metadata": {},
   "outputs": [
    {
     "data": {
      "text/plain": [
       "True"
      ]
     },
     "execution_count": 93,
     "metadata": {},
     "output_type": "execute_result"
    }
   ],
   "source": [
    "bool([0])"
   ]
  },
  {
   "cell_type": "code",
   "execution_count": 94,
   "id": "46cc0e1f-d94a-4bcb-aae1-e3130487bcdf",
   "metadata": {},
   "outputs": [
    {
     "data": {
      "text/plain": [
       "False"
      ]
     },
     "execution_count": 94,
     "metadata": {},
     "output_type": "execute_result"
    }
   ],
   "source": [
    "bool([])"
   ]
  },
  {
   "cell_type": "code",
   "execution_count": 96,
   "id": "432adfd3-de48-4870-9946-716ec60d4d7b",
   "metadata": {},
   "outputs": [
    {
     "data": {
      "text/plain": [
       "True"
      ]
     },
     "execution_count": 96,
     "metadata": {},
     "output_type": "execute_result"
    }
   ],
   "source": [
    "bool((0,))"
   ]
  },
  {
   "cell_type": "code",
   "execution_count": 97,
   "id": "10ece558-636e-4c71-af54-0ca639d9845a",
   "metadata": {},
   "outputs": [
    {
     "data": {
      "text/plain": [
       "False"
      ]
     },
     "execution_count": 97,
     "metadata": {},
     "output_type": "execute_result"
    }
   ],
   "source": [
    "bool(\"\")"
   ]
  },
  {
   "cell_type": "code",
   "execution_count": 98,
   "id": "b92bc671-f971-494e-a174-2a2ee5219a4d",
   "metadata": {},
   "outputs": [
    {
     "data": {
      "text/plain": [
       "True"
      ]
     },
     "execution_count": 98,
     "metadata": {},
     "output_type": "execute_result"
    }
   ],
   "source": [
    "bool(\"h\")"
   ]
  },
  {
   "cell_type": "code",
   "execution_count": 99,
   "id": "833f4b65-53f2-4931-aa70-abd46f2b1a58",
   "metadata": {},
   "outputs": [
    {
     "data": {
      "text/plain": [
       "True"
      ]
     },
     "execution_count": 99,
     "metadata": {},
     "output_type": "execute_result"
    }
   ],
   "source": [
    "bool(\"False\")"
   ]
  },
  {
   "cell_type": "code",
   "execution_count": 100,
   "id": "1949332c-9baf-4b12-8cf6-045e496bb36d",
   "metadata": {},
   "outputs": [],
   "source": [
    "x = True"
   ]
  },
  {
   "cell_type": "code",
   "execution_count": 133,
   "id": "430a2bb6-3de2-4ef6-8b64-9802e0aba64c",
   "metadata": {},
   "outputs": [
    {
     "data": {
      "text/plain": [
       "False"
      ]
     },
     "execution_count": 133,
     "metadata": {},
     "output_type": "execute_result"
    }
   ],
   "source": [
    "not x"
   ]
  },
  {
   "cell_type": "code",
   "execution_count": 105,
   "id": "d8a922ca-be35-4a84-b212-db8ef0c9ecb0",
   "metadata": {},
   "outputs": [
    {
     "name": "stdout",
     "output_type": "stream",
     "text": [
      "true is true\n"
     ]
    }
   ],
   "source": [
    "if list2:\n",
    "    print(\"true is true\")"
   ]
  },
  {
   "cell_type": "code",
   "execution_count": 121,
   "id": "65575aa5-100a-43c9-a706-23a815503e10",
   "metadata": {},
   "outputs": [
    {
     "data": {
      "text/plain": [
       "True"
      ]
     },
     "execution_count": 121,
     "metadata": {},
     "output_type": "execute_result"
    }
   ],
   "source": [
    "\"lo\" in \"hello world\""
   ]
  },
  {
   "cell_type": "code",
   "execution_count": 135,
   "id": "062f18d2-8902-4ae3-8e7a-4226db1a38bb",
   "metadata": {},
   "outputs": [
    {
     "data": {
      "text/plain": [
       "array([False, False,  True,  True])"
      ]
     },
     "execution_count": 135,
     "metadata": {},
     "output_type": "execute_result"
    }
   ],
   "source": [
    "np.invert(np.array([True, True, False, False]))"
   ]
  },
  {
   "cell_type": "markdown",
   "id": "1b0f4c91-2379-49ac-89c1-596fcde750ed",
   "metadata": {
    "tags": []
   },
   "source": [
    "-----\n",
    "for\n",
    "-----"
   ]
  },
  {
   "cell_type": "code",
   "execution_count": 111,
   "id": "766c381b-1eca-4aed-9ff6-50e882120509",
   "metadata": {},
   "outputs": [
    {
     "name": "stdout",
     "output_type": "stream",
     "text": [
      "0\n",
      "1\n",
      "2\n",
      "3\n",
      "4\n",
      "5\n",
      "6\n",
      "7\n",
      "8\n",
      "9\n"
     ]
    }
   ],
   "source": [
    "for i in range(10):\n",
    "    print(i)"
   ]
  },
  {
   "cell_type": "code",
   "execution_count": 113,
   "id": "e268d268-6d19-4a48-b053-d6fe93b08ce4",
   "metadata": {},
   "outputs": [
    {
     "name": "stdout",
     "output_type": "stream",
     "text": [
      "a\n",
      "b\n",
      "c\n",
      "d\n",
      "e\n",
      "f\n",
      "g\n",
      "[1, 5, 3.141592653589793, 'f']\n"
     ]
    }
   ],
   "source": [
    "for i in list3:\n",
    "    print(i)"
   ]
  },
  {
   "cell_type": "code",
   "execution_count": 115,
   "id": "92689859-1897-40f5-88d7-6b030857d7b5",
   "metadata": {},
   "outputs": [
    {
     "name": "stdout",
     "output_type": "stream",
     "text": [
      "0 a\n",
      "1 b\n",
      "2 c\n",
      "3 d\n",
      "4 e\n",
      "5 f\n",
      "6 g\n",
      "7 [1, 5, 3.141592653589793, 'f']\n"
     ]
    }
   ],
   "source": [
    "for i, elem in enumerate(list3):\n",
    "    print(i, elem)"
   ]
  },
  {
   "cell_type": "code",
   "execution_count": 116,
   "id": "ae8edce0-e04b-4f17-a846-d50437bdff1d",
   "metadata": {},
   "outputs": [
    {
     "data": {
      "text/plain": [
       "[(0, 'a'),\n",
       " (1, 'b'),\n",
       " (2, 'c'),\n",
       " (3, 'd'),\n",
       " (4, 'e'),\n",
       " (5, 'f'),\n",
       " (6, 'g'),\n",
       " (7, [1, 5, 3.141592653589793, 'f'])]"
      ]
     },
     "execution_count": 116,
     "metadata": {},
     "output_type": "execute_result"
    }
   ],
   "source": [
    "list(enumerate(list3))"
   ]
  },
  {
   "cell_type": "code",
   "execution_count": 117,
   "id": "84ef8baa-ed0b-4da2-b9cd-da4567351a16",
   "metadata": {},
   "outputs": [
    {
     "name": "stdout",
     "output_type": "stream",
     "text": [
      "a\n",
      "b\n",
      "c\n",
      "d\n",
      "e\n",
      "f\n",
      "g\n"
     ]
    }
   ],
   "source": [
    "for let in str3:\n",
    "    print(let)"
   ]
  },
  {
   "cell_type": "code",
   "execution_count": 118,
   "id": "3868d001-e608-4141-aafc-68ed6b516f5d",
   "metadata": {},
   "outputs": [
    {
     "name": "stdout",
     "output_type": "stream",
     "text": [
      "jack\n",
      "thomas\n",
      "guido\n",
      "3\n",
      "(1, 'f', 7)\n"
     ]
    }
   ],
   "source": [
    "for key in tel.keys():\n",
    "    print(key)"
   ]
  },
  {
   "cell_type": "code",
   "execution_count": 119,
   "id": "55d68583-bf0d-46ae-bb47-01ad8a3a993d",
   "metadata": {},
   "outputs": [
    {
     "name": "stdout",
     "output_type": "stream",
     "text": [
      "4139\n",
      "4139\n",
      "4127\n",
      "[2, 5, 7]\n",
      "[4, '3', 346]\n"
     ]
    }
   ],
   "source": [
    "for value in tel.values():\n",
    "    print(value)"
   ]
  },
  {
   "cell_type": "code",
   "execution_count": 120,
   "id": "c13ec9ef-60ee-4f21-a039-d6093af552ca",
   "metadata": {},
   "outputs": [
    {
     "name": "stdout",
     "output_type": "stream",
     "text": [
      "jack 4139\n",
      "thomas 4139\n",
      "guido 4127\n",
      "3 [2, 5, 7]\n",
      "(1, 'f', 7) [4, '3', 346]\n"
     ]
    }
   ],
   "source": [
    "for key, value in tel.items():\n",
    "    print(key, value)"
   ]
  },
  {
   "cell_type": "markdown",
   "id": "50085848-9fac-4991-b530-8cf4d938912f",
   "metadata": {},
   "source": [
    "-----\n",
    "functions\n",
    "-----"
   ]
  },
  {
   "cell_type": "code",
   "execution_count": 136,
   "id": "596465ab-dc6c-434b-bab5-2d053d5ffeca",
   "metadata": {},
   "outputs": [],
   "source": [
    "def identity_function(anything_you_want):\n",
    "    \"\"\"Returns its argument, unchanged.\"\"\"\n",
    "    return anything_you_want"
   ]
  },
  {
   "cell_type": "code",
   "execution_count": 138,
   "id": "384ed172-09c3-4b5c-a35b-4f28e8188383",
   "metadata": {},
   "outputs": [
    {
     "data": {
      "text/plain": [
       "\"hello world'nt\""
      ]
     },
     "execution_count": 138,
     "metadata": {},
     "output_type": "execute_result"
    }
   ],
   "source": [
    "identity_function(\"hello world'nt\")"
   ]
  },
  {
   "cell_type": "code",
   "execution_count": 145,
   "id": "0d33f647-3452-493f-82f5-1a681904aa9c",
   "metadata": {},
   "outputs": [],
   "source": [
    "def print_type(x):\n",
    "    \"\"\"Prints the type of its argument.\"\"\"\n",
    "    x_type = type(x)\n",
    "    print(x_type)"
   ]
  },
  {
   "cell_type": "code",
   "execution_count": 148,
   "id": "eea96ca3-b413-4698-ba27-e5b16723509b",
   "metadata": {},
   "outputs": [
    {
     "name": "stdout",
     "output_type": "stream",
     "text": [
      "<class 'bool'>\n"
     ]
    }
   ],
   "source": [
    "print(print_type(x))"
   ]
  },
  {
   "cell_type": "code",
   "execution_count": 144,
   "id": "3a49f575-b83a-4b5d-92f7-b41c05c6d191",
   "metadata": {},
   "outputs": [
    {
     "name": "stdout",
     "output_type": "stream",
     "text": [
      "<class 'bool'>\n"
     ]
    }
   ],
   "source": [
    "print(type(True))"
   ]
  },
  {
   "cell_type": "code",
   "execution_count": null,
   "id": "7b890dce-975c-4c7f-83ae-b165528ea005",
   "metadata": {},
   "outputs": [],
   "source": [
    "def limit_of_detection(blank_signal, inverse_fun, sds):\n",
    "    \"\"\"Computes the limit of detection (LOD).\n",
    "    \n",
    "    Parameters\n",
    "    ----------\n",
    "    blank_signal : array-like\n",
    "        Signal (e.g., average number of enzymes per bead, AEB) of the\n",
    "        zero calibrator. Must have at least two elements.\n",
    "    inverse_fun : ``function`` or ``CalCurve``\n",
    "        The functional form used for the calibration curve. If a\n",
    "        function, it should accept the measurement reading (`y`, e.g.,\n",
    "        fluorescence) as its only argument and return the value (`x`,\n",
    "        e.g., concentration). If **inverse_fun** is a ``CalCurve``\n",
    "        object, the LOD will be calculated from its ``inverse`` method.\n",
    "    sds : numeric, optional\n",
    "        How many standard deviations above the mean should the\n",
    "        background should the limit of detection be calculated at?\n",
    "        Common values include 2.5 (Quanterix), 3 (Walt Lab), and 10\n",
    "        (lower limit of quantification, LLOQ).\n",
    "    corr : {\"n\", \"n-1\", \"n-1.5\", \"c4\"} or numeric, default \"c4\"\n",
    "        The sample standard deviation under-estimates the population\n",
    "        standard deviation for a normally distributed variable.\n",
    "        Specifies how this should be addressed. Options:\n",
    "            - \"n\" : Divide by the number of samples to yield the\n",
    "              uncorrected sample standard deviation.\n",
    "            - \"n-1\" : Divide by the number of samples minus one to\n",
    "              yield the square root of the unbiased sample variance.\n",
    "            - \"n-1.5\" : Divide by the number of samples minus 1.5 to\n",
    "              yield the approximate unbiased sample standard deviation.\n",
    "            - \"c4\" : Divide by the correction factor to yield the\n",
    "              exact unbiased sample standard deviation.\n",
    "            - If numeric, gives the delta degrees of freedom.\n",
    "    Returns\n",
    "    -------\n",
    "    lod_x : numeric\n",
    "        The limit of detection, in units of x (e.g., concentration).\n",
    "    See Also\n",
    "    --------\n",
    "    c4 : factor `c4` for unbiased estimation of the standard deviation\n",
    "    std : unbiased estimate of the population standard deviation\n",
    "    numpy.std : standard deviation\n",
    "\n",
    "    \"\"\"\n",
    "    \n",
    "    mean = np.mean(blank_signal)\n",
    "    stdev = np.std(blank_signal)\n",
    "    lod_y = mean + sds * stdev\n",
    "    lod_x = inverse_fun(lod_y)\n",
    "    return lod_x"
   ]
  }
 ],
 "metadata": {
  "kernelspec": {
   "display_name": "Python 3 (ipykernel)",
   "language": "python",
   "name": "python3"
  },
  "language_info": {
   "codemirror_mode": {
    "name": "ipython",
    "version": 3
   },
   "file_extension": ".py",
   "mimetype": "text/x-python",
   "name": "python",
   "nbconvert_exporter": "python",
   "pygments_lexer": "ipython3",
   "version": "3.8.12"
  }
 },
 "nbformat": 4,
 "nbformat_minor": 5
}
