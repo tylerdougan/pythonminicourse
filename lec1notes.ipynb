{
 "cells": [
  {
   "cell_type": "markdown",
   "id": "6787d17b-7aa2-4d07-b85d-295fa24d6cdb",
   "metadata": {},
   "source": [
    "Numerical computing with Python\n",
    "===============================\n",
    "\n",
    "Disclaimer\n",
    "----------\n",
    "I've put a lot of work into planning this class, but I don't really have experience teaching more than one person at a time. There are going to be some rough edges. I'll really appreciate your help during and between classes letting me know if it's too fast, too slow, what works, and what doesn't.\n",
    "\n",
    "Learning Goals\n",
    "--------------\n",
    "There are three different kinds of ways that people can interact with programs. Excel and GraphPad use graphical user interfaces (GUIs), which are all the point-and-click stuff. Our goal today is to understand how to interface with tools in Python. These aren't point-and-click: they use an application programming interface (API).\n",
    "\n",
    "The power of Python comes from packages. There's the central language, which is also called the standard library, and then packages. So for example, if I want to make plots, I will need to import a package called `matplotlib`. Some of you only want to learn Python becaause it's the way to interact with these packages, so today, our goal is to cover just enough Python so you can do that.\n",
    "\n",
    "We're going to do an intro `numpy` for core aspects of scientific computing; NumPy is like MATLAB or R or a really fancy graphing calculator.\n",
    "\n",
    "Looking Things Up\n",
    "-----------------\n",
    "By far the most important skill you can learn here is how to Google things. When you google something like:\n",
    "> how to make histogram in python\n",
    "\n",
    "you'll usually get three types of results:\n",
    " - Websites like GeeksforGeeks, Real Python, W3Schools. These are fine, but they're usually at the top because of search engine optimization, rather than their value.\n",
    " - Documentation. This comes from the website of Python or the package itself, and it'll have a .org URL. I like these the best. They tend to be thorough and precise, but sometimes they're more terse than explanations on other sites. This varies by package.\n",
    " - Forums like StackOverflow. Every programmer, from beginner to expert, spends a ton of time on StackOverflow.\n",
    "\n",
    "-------------------\n",
    "Basic Python syntax\n",
    "-------------------"
   ]
  },
  {
   "cell_type": "code",
   "execution_count": 28,
   "id": "30da6714-b738-407f-98ce-3e132a7c4784",
   "metadata": {},
   "outputs": [
    {
     "name": "stdout",
     "output_type": "stream",
     "text": [
      "hello world\n"
     ]
    }
   ],
   "source": [
    "# anything after a pound sign is a comment\n",
    "print(\"hello world\")"
   ]
  },
  {
   "cell_type": "code",
   "execution_count": 2,
   "id": "e97a0a04-a9af-4c6e-a715-23dbcb7aaeb8",
   "metadata": {},
   "outputs": [
    {
     "name": "stdout",
     "output_type": "stream",
     "text": [
      "6\n",
      "-2\n",
      "8\n",
      "0.5\n",
      "16\n"
     ]
    }
   ],
   "source": [
    "print(2 + 4)\n",
    "print(2 - 4)\n",
    "print(2 * 4)\n",
    "print(2 / 4)\n",
    "print(2 ** 4)"
   ]
  },
  {
   "cell_type": "markdown",
   "id": "fbb44e3b-54c3-4b04-8659-89f672d6b266",
   "metadata": {},
   "source": [
    "------------\n",
    "NumPy Arrays\n",
    "------------"
   ]
  },
  {
   "cell_type": "code",
   "execution_count": 3,
   "id": "958b75cb-9d21-4c21-b61e-6575778efea3",
   "metadata": {},
   "outputs": [
    {
     "name": "stdout",
     "output_type": "stream",
     "text": [
      "2.718281828459045\n",
      "[ 2.71828183  1.         23.14069263]\n"
     ]
    }
   ],
   "source": [
    "import numpy as np\n",
    "\n",
    "my_vector = np.array([1, 0, np.pi])\n",
    "my_vector_na = np.array([1, 0, np.pi, np.nan])\n",
    "\n",
    "my_matrix = np.array([\n",
    "    [1, 2, 3],\n",
    "    [4, 5, 6],\n",
    "    [7, 8, 9],\n",
    "    [10, 11, 12]\n",
    "])\n",
    "\n",
    "print(np.exp(1))\n",
    "print(np.exp(my_vector))"
   ]
  },
  {
   "cell_type": "code",
   "execution_count": null,
   "id": "08ddf740-d749-4627-bbff-d6baa198af9e",
   "metadata": {},
   "outputs": [],
   "source": [
    "fon = 0.5\n",
    "aeb = -np.log(1 - fon)\n",
    "print(aeb)"
   ]
  },
  {
   "cell_type": "code",
   "execution_count": 4,
   "id": "e17cbee1-a30b-49ce-ba2b-03fbf23f94cc",
   "metadata": {},
   "outputs": [
    {
     "name": "stdout",
     "output_type": "stream",
     "text": [
      "[[ 1.          0.          9.42477796]\n",
      " [ 4.          0.         18.84955592]\n",
      " [ 7.          0.         28.27433388]\n",
      " [10.          0.         37.69911184]]\n"
     ]
    }
   ],
   "source": [
    "print(my_matrix * my_vector)"
   ]
  },
  {
   "cell_type": "code",
   "execution_count": 5,
   "id": "3d4402cf-894f-447d-8de7-38e83dd0f437",
   "metadata": {},
   "outputs": [
    {
     "name": "stdout",
     "output_type": "stream",
     "text": [
      "[10.42477796 22.84955592 35.27433388 47.69911184]\n"
     ]
    }
   ],
   "source": [
    "print(np.matmul(my_matrix, my_vector))"
   ]
  },
  {
   "cell_type": "code",
   "execution_count": 6,
   "id": "533bb86c-b259-4502-a0e0-c79bd89faa41",
   "metadata": {},
   "outputs": [
    {
     "name": "stdout",
     "output_type": "stream",
     "text": [
      "1.3805308845299311\n",
      "nan\n"
     ]
    }
   ],
   "source": [
    "print(my_vector.mean())\n",
    "print(my_vector_na.mean())"
   ]
  },
  {
   "cell_type": "code",
   "execution_count": 7,
   "id": "3588a8f0-9e3b-41c4-9eac-ae8f1904536b",
   "metadata": {},
   "outputs": [
    {
     "name": "stdout",
     "output_type": "stream",
     "text": [
      "1.3805308845299311\n",
      "nan\n"
     ]
    }
   ],
   "source": [
    "print(np.mean(my_vector))\n",
    "print(np.mean(my_vector_na))"
   ]
  },
  {
   "cell_type": "code",
   "execution_count": 8,
   "id": "22db2d8f-7055-4f5c-a9f6-afc0b98b28a2",
   "metadata": {},
   "outputs": [
    {
     "name": "stdout",
     "output_type": "stream",
     "text": [
      "1.3805308845299311\n",
      "1.3805308845299311\n"
     ]
    }
   ],
   "source": [
    "print(np.nanmean(my_vector))\n",
    "print(np.nanmean(my_vector_na))"
   ]
  },
  {
   "cell_type": "markdown",
   "id": "a89535f0-a8fa-4051-85bd-2f31c66d4861",
   "metadata": {},
   "source": [
    "--------------------\n",
    "Indexing and Slicing\n",
    "--------------------"
   ]
  },
  {
   "cell_type": "code",
   "execution_count": 9,
   "id": "804d1db0-5c36-4e05-af5d-3c72db1fc703",
   "metadata": {},
   "outputs": [
    {
     "name": "stdout",
     "output_type": "stream",
     "text": [
      "0.0\n"
     ]
    }
   ],
   "source": [
    "print(my_vector[1])"
   ]
  },
  {
   "cell_type": "code",
   "execution_count": 10,
   "id": "5a7e9ebb-272b-42e0-8ac7-2e6bfd82fc6f",
   "metadata": {},
   "outputs": [
    {
     "name": "stdout",
     "output_type": "stream",
     "text": [
      "[4 5 6]\n"
     ]
    }
   ],
   "source": [
    "print(my_matrix[1])"
   ]
  },
  {
   "cell_type": "code",
   "execution_count": 11,
   "id": "3f7658af-cdae-4dfc-98ce-62064db2694a",
   "metadata": {},
   "outputs": [
    {
     "name": "stdout",
     "output_type": "stream",
     "text": [
      "[1. 0.]\n"
     ]
    }
   ],
   "source": [
    "print(my_vector[0:2])"
   ]
  },
  {
   "cell_type": "code",
   "execution_count": 12,
   "id": "c6dcce89-e027-4b2a-904e-15e54c774146",
   "metadata": {},
   "outputs": [
    {
     "name": "stdout",
     "output_type": "stream",
     "text": [
      "[1 2]\n"
     ]
    }
   ],
   "source": [
    "print(my_matrix[0, 0:2])"
   ]
  },
  {
   "cell_type": "code",
   "execution_count": 13,
   "id": "5a3c04aa-7e63-47f5-8560-998381429fd6",
   "metadata": {},
   "outputs": [
    {
     "name": "stdout",
     "output_type": "stream",
     "text": [
      "[ True False  True]\n"
     ]
    }
   ],
   "source": [
    "print(my_vector > 0)"
   ]
  },
  {
   "cell_type": "code",
   "execution_count": 14,
   "id": "6446a341-f1dc-43a5-a946-dfef593c6962",
   "metadata": {},
   "outputs": [
    {
     "name": "stdout",
     "output_type": "stream",
     "text": [
      "[1.         3.14159265]\n"
     ]
    }
   ],
   "source": [
    "print(my_vector[[True, False, True]])"
   ]
  },
  {
   "cell_type": "code",
   "execution_count": 15,
   "id": "bf342411-b417-4491-ae76-1a029bcd3dc4",
   "metadata": {},
   "outputs": [
    {
     "name": "stdout",
     "output_type": "stream",
     "text": [
      "[1.         3.14159265]\n"
     ]
    }
   ],
   "source": [
    "print(my_vector[my_vector > 0])"
   ]
  },
  {
   "cell_type": "code",
   "execution_count": 23,
   "id": "bbf1a154-3ed9-44be-9f39-21b22deb9e06",
   "metadata": {},
   "outputs": [
    {
     "name": "stdout",
     "output_type": "stream",
     "text": [
      "[ True  True  True]\n"
     ]
    }
   ],
   "source": [
    "print((my_vector > 0) | (my_vector == 0))"
   ]
  },
  {
   "cell_type": "code",
   "execution_count": 24,
   "id": "95927fa7-4094-4b08-9de2-6390453e534e",
   "metadata": {},
   "outputs": [
    {
     "name": "stdout",
     "output_type": "stream",
     "text": [
      "[False False False]\n"
     ]
    }
   ],
   "source": [
    "print((my_vector > 0) & (my_vector == 0))"
   ]
  }
 ],
 "metadata": {
  "kernelspec": {
   "display_name": "Python 3 (ipykernel)",
   "language": "python",
   "name": "python3"
  },
  "language_info": {
   "codemirror_mode": {
    "name": "ipython",
    "version": 3
   },
   "file_extension": ".py",
   "mimetype": "text/x-python",
   "name": "python",
   "nbconvert_exporter": "python",
   "pygments_lexer": "ipython3",
   "version": "3.8.12"
  }
 },
 "nbformat": 4,
 "nbformat_minor": 5
}
